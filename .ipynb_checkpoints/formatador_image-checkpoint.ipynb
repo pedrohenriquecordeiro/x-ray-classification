{
 "cells": [
  {
   "cell_type": "code",
   "execution_count": 74,
   "metadata": {},
   "outputs": [],
   "source": [
    "# funcao de redimensionamento\n",
    "from PIL import Image\n",
    "from resizeimage import resizeimage\n",
    "\n",
    "def padroniza_img(caminho_imagem_origem,caminho_destino,nome_arquivo):\n",
    "    \n",
    "    caminho_nova_imagem = caminho_destino + '/' + nome_arquivo + '.png'\n",
    "    \n",
    "    ## redimensiona a largura para 320p mantendo a proporcao da imagem\n",
    "    fd_img  = open(caminho_imagem_origem, mode = 'r')\n",
    "    img     = Image.open(fd_img)\n",
    "    largura = img.size[0]\n",
    "    altura  = img.size[1]\n",
    "    if largura > altura:\n",
    "        img = resizeimage.resize_height(img, 128)\n",
    "        img.save(caminho_nova_imagem)\n",
    "    elif largura <= altura:\n",
    "        img = resizeimage.resize_width(img, 128)\n",
    "        img.save(caminho_nova_imagem)\n",
    "    fd_img.close()\n",
    "    \n",
    "    \n",
    "    ## corta a imagem em um quadrado 320 x 320\n",
    "    fd_img = open(caminho_nova_imagem)\n",
    "    img = Image.open(fd_img)\n",
    "    img = resizeimage.resize_crop(img, [128, 128])\n",
    "    img.save(caminho_nova_imagem)\n",
    "    fd_img.close()\n"
   ]
  },
  {
   "cell_type": "code",
   "execution_count": 75,
   "metadata": {},
   "outputs": [],
   "source": [
    "caminho_origem = '/home/pedro/Imagens/IM-0413-0001.jpeg'\n",
    "caminho_destino = '/home/pedro/Imagens'\n",
    "nome = 'teste'\n",
    "\n",
    "padroniza_img(caminho_origem,caminho_destino,nome)"
   ]
  },
  {
   "cell_type": "code",
   "execution_count": 19,
   "metadata": {},
   "outputs": [
    {
     "name": "stdout",
     "output_type": "stream",
     "text": [
      "234\n",
      "390\n",
      "1341\n",
      "3875\n",
      "8\n",
      "8\n"
     ]
    }
   ],
   "source": [
    "# pega o caminho de todos as imagens do dataset\n",
    "import glob\n",
    "\n",
    "test_normal    = glob.glob(\"/home/pedro/Imagens/chest-xray-pneumonia/chest_xray/chest_xray/test/NORMAL/*.jpeg\")\n",
    "test_pneumonia = glob.glob(\"/home/pedro/Imagens/chest-xray-pneumonia/chest_xray/chest_xray/test/PNEUMONIA/*.jpeg\")\n",
    "\n",
    "train_normal    = glob.glob(\"/home/pedro/Imagens/chest-xray-pneumonia/chest_xray/chest_xray/train/NORMAL/*.jpeg\")\n",
    "train_pneumonia = glob.glob(\"/home/pedro/Imagens/chest-xray-pneumonia/chest_xray/chest_xray/train/PNEUMONIA/*.jpeg\")\n",
    "\n",
    "val_normal    = glob.glob(\"/home/pedro/Imagens/chest-xray-pneumonia/chest_xray/chest_xray/val/NORMAL/*.jpeg\")\n",
    "val_pneumonia = glob.glob(\"/home/pedro/Imagens/chest-xray-pneumonia/chest_xray/chest_xray/val/PNEUMONIA/*.jpeg\")\n",
    "\n",
    "print(len(test_normal))\n",
    "print(len(test_pneumonia))\n",
    "print(len(train_normal))\n",
    "print(len(train_pneumonia))\n",
    "print(len(val_normal))\n",
    "print(len(val_pneumonia))"
   ]
  }
 ],
 "metadata": {
  "kernelspec": {
   "display_name": "Python 2",
   "language": "python",
   "name": "python2"
  },
  "language_info": {
   "codemirror_mode": {
    "name": "ipython",
    "version": 2
   },
   "file_extension": ".py",
   "mimetype": "text/x-python",
   "name": "python",
   "nbconvert_exporter": "python",
   "pygments_lexer": "ipython2",
   "version": "2.7.16"
  }
 },
 "nbformat": 4,
 "nbformat_minor": 2
}
