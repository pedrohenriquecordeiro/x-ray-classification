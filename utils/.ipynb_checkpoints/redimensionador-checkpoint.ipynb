{
 "cells": [
  {
   "cell_type": "code",
   "execution_count": 1,
   "metadata": {},
   "outputs": [],
   "source": [
    "## redimensiona o dataset\n",
    "\n",
    "tamanho = 120\n",
    "\n",
    "# funcao de redimensionamento\n",
    "from PIL import Image\n",
    "import cv2\n",
    "\n",
    "\n",
    "def padroniza_img(caminho_imagem_origem,caminho_destino,nome_arquivo):\n",
    "    \n",
    "    caminho_nova_imagem = caminho_destino + '/' + nome_arquivo + '.png'\n",
    "    \n",
    "    img    = cv2.imread(caminho_imagem_origem)\n",
    "    img    = cv2.resize(img, (tamanho,tamanho))\n",
    "    cv2.imwrite(caminho_nova_imagem,img)\n"
   ]
  },
  {
   "cell_type": "code",
   "execution_count": 2,
   "metadata": {},
   "outputs": [
    {
     "name": "stdout",
     "output_type": "stream",
     "text": [
      "234\n",
      "390\n",
      "1341\n",
      "3875\n",
      "8\n",
      "8\n"
     ]
    }
   ],
   "source": [
    "# pega o caminho de todos as imagens ORIGINAIS do dataset\n",
    "import glob\n",
    "\n",
    "test_normal    = glob.glob(\"/home/pedro/Imagens/chest-xray-pneumonia/chest_xray/chest_xray/test/NORMAL/*.jpeg\")\n",
    "test_pneumonia = glob.glob(\"/home/pedro/Imagens/chest-xray-pneumonia/chest_xray/chest_xray/test/PNEUMONIA/*.jpeg\")\n",
    "\n",
    "train_normal    = glob.glob(\"/home/pedro/Imagens/chest-xray-pneumonia/chest_xray/chest_xray/train/NORMAL/*.jpeg\")\n",
    "train_pneumonia = glob.glob(\"/home/pedro/Imagens/chest-xray-pneumonia/chest_xray/chest_xray/train/PNEUMONIA/*.jpeg\")\n",
    "\n",
    "val_normal    = glob.glob(\"/home/pedro/Imagens/chest-xray-pneumonia/chest_xray/chest_xray/val/NORMAL/*.jpeg\")\n",
    "val_pneumonia = glob.glob(\"/home/pedro/Imagens/chest-xray-pneumonia/chest_xray/chest_xray/val/PNEUMONIA/*.jpeg\")\n",
    "\n",
    "print(len(test_normal))\n",
    "print(len(test_pneumonia))\n",
    "print(len(train_normal))\n",
    "print(len(train_pneumonia))\n",
    "print(len(val_normal))\n",
    "print(len(val_pneumonia))"
   ]
  },
  {
   "cell_type": "code",
   "execution_count": null,
   "metadata": {},
   "outputs": [
    {
     "name": "stdout",
     "output_type": "stream",
     "text": [
      "tratando imagens do normal test\n",
      "tratando imagens do pneumonia test\n",
      "tratando imagens do normal train\n",
      "tratando imagens do pneumonia train\n"
     ]
    }
   ],
   "source": [
    "print('tratando imagens do normal test')\n",
    "contador = 0\n",
    "caminho_processado_normal_test = '/home/pedro/Imagens/processado_chest-xray-pneumonia/test/NORMAL'\n",
    "for caminho in test_normal:\n",
    "    padroniza_img(caminho,caminho_processado_normal_test,str(contador))\n",
    "    contador = contador + 1\n",
    "    \n",
    "print('tratando imagens do pneumonia test')    \n",
    "contador = 0\n",
    "caminho_processado_pneumonia_test = '/home/pedro/Imagens/processado_chest-xray-pneumonia/test/PNEUMONIA'\n",
    "for caminho in test_pneumonia:\n",
    "    padroniza_img(caminho , caminho_processado_pneumonia_test , str(contador))\n",
    "    contador = contador + 1\n",
    "    \n",
    "    \n",
    "print('tratando imagens do normal train')\n",
    "contador = 0\n",
    "caminho_processado_normal_train = '/home/pedro/Imagens/processado_chest-xray-pneumonia/train/NORMAL'\n",
    "for caminho in train_normal:\n",
    "    padroniza_img(caminho , caminho_processado_normal_train , str(contador))\n",
    "    contador = contador + 1\n",
    "    \n",
    "print('tratando imagens do pneumonia train')\n",
    "contador = 0\n",
    "caminho_processado_pneumonia_train = '/home/pedro/Imagens/processado_chest-xray-pneumonia/train/PNEUMONIA'\n",
    "for caminho in train_pneumonia:\n",
    "    padroniza_img(caminho,caminho_processado_pneumonia_train,str(contador))\n",
    "    contador = contador + 1\n",
    "    \n",
    "print('tratando imagens do pneumonia val')\n",
    "contador = 0\n",
    "caminho_processado_pneumonia_val = '/home/pedro/Imagens/processado_chest-xray-pneumonia/val/PNEUMONIA'\n",
    "for caminho in val_pneumonia:\n",
    "    padroniza_img(caminho,caminho_processado_pneumonia_val,str(contador))\n",
    "    contador = contador + 1\n",
    "    \n",
    "print('tratando imagens do normal val')\n",
    "contador = 0\n",
    "caminho_processado_pneumonia_val = '/home/pedro/Imagens/processado_chest-xray-pneumonia/val/NORMAL'\n",
    "for caminho in val_pneumonia:\n",
    "    padroniza_img(caminho,caminho_processado_pneumonia_val,str(contador))\n",
    "    contador = contador + 1\n",
    "    \n",
    "print('fim')"
   ]
  },
  {
   "cell_type": "code",
   "execution_count": null,
   "metadata": {},
   "outputs": [],
   "source": []
  }
 ],
 "metadata": {
  "kernelspec": {
   "display_name": "Python 2",
   "language": "python",
   "name": "python2"
  },
  "language_info": {
   "codemirror_mode": {
    "name": "ipython",
    "version": 2
   },
   "file_extension": ".py",
   "mimetype": "text/x-python",
   "name": "python",
   "nbconvert_exporter": "python",
   "pygments_lexer": "ipython2",
   "version": "2.7.16"
  }
 },
 "nbformat": 4,
 "nbformat_minor": 2
}
