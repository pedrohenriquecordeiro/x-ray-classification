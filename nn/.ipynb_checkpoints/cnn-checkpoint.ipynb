{
 "cells": [
  {
   "cell_type": "code",
   "execution_count": 1,
   "metadata": {},
   "outputs": [],
   "source": [
    "### constantes do problema\n",
    "## 2 => ( 0 - pulmao normal | 1 - pulmao com pneumonia)\n",
    "numero_classes = 2\n",
    "\n",
    "## dimensao da imagem\n",
    "# tamanho x tamanho\n",
    "tamanho = 64\n",
    "profundidade = 3\n",
    "\n",
    "# tamanho do batch\n",
    "batch = 1000\n",
    "\n",
    "# numero de epocas\n",
    "epoch = 20\n",
    "\n",
    "## caminhos das pastas das imagens \n",
    "caminho_test_normal     = \"/home/pedro/Imagens/processado_chest-xray-pneumonia/test/NORMAL/*.png\"\n",
    "caminho_test_pneumonia  = \"/home/pedro/Imagens/processado_chest-xray-pneumonia/test/PNEUMONIA/*.png\"\n",
    "\n",
    "caminho_train_normal    = \"/home/pedro/Imagens/processado_chest-xray-pneumonia/train/NORMAL/*.png\" \n",
    "caminho_train_pneumonia = \"/home/pedro/Imagens/processado_chest-xray-pneumonia/train/PNEUMONIA/*.png\"\n",
    "\n",
    "caminho_val_normal      = \"/home/pedro/Imagens/processado_chest-xray-pneumonia/val/NORMAL/*.png\"\n",
    "caminho_val_pneumonia   = \"/home/pedro/Imagens/processado_chest-xray-pneumonia/val/PNEUMONIA/*.png\""
   ]
  },
  {
   "cell_type": "code",
   "execution_count": 2,
   "metadata": {},
   "outputs": [
    {
     "name": "stderr",
     "output_type": "stream",
     "text": [
      "Using TensorFlow backend.\n"
     ]
    }
   ],
   "source": [
    "import numpy as np\n",
    "import keras\n",
    "import cv2 \n",
    "from keras.preprocessing import image\n",
    "from keras.callbacks import ModelCheckpoint\n",
    "from keras.regularizers import l2\n",
    "\n",
    "import matplotlib.pyplot as plt\n",
    "\n",
    "from stridednet import StridedNet"
   ]
  },
  {
   "cell_type": "code",
   "execution_count": 3,
   "metadata": {},
   "outputs": [],
   "source": [
    "### funcao para carregar a imagem do caminho\n",
    "\n",
    "def ler_imagem(caminho):\n",
    "    img = cv2.imread(caminho)\n",
    "    imres = image.img_to_array(img)\n",
    "    imres = np.expand_dims(imres, axis = 0)    \n",
    "    return imres"
   ]
  },
  {
   "cell_type": "code",
   "execution_count": 4,
   "metadata": {},
   "outputs": [],
   "source": [
    "### carrega o dataset na a memoria\n",
    "## busca o caminho de cada imagem dentro da pasta do dataset\n",
    "\n",
    "import glob\n",
    "\n",
    "arquivo_test_normal    = glob.glob(caminho_test_normal)\n",
    "arquivo_test_pneumonia = glob.glob(caminho_test_pneumonia)\n",
    "\n",
    "arquivo_train_normal    = glob.glob(caminho_train_normal)\n",
    "arquivo_train_pneumonia = glob.glob(caminho_train_pneumonia)\n",
    "\n",
    "arquivo_val_normal    = glob.glob(caminho_val_normal)\n",
    "arquivo_val_pneumonia = glob.glob(caminho_val_pneumonia)\n",
    "\n",
    "\n",
    "## busca cada imagem e salva em arrays\n",
    "\n",
    "# dados de teste normais\n",
    "test_normal = []\n",
    "for caminho_imagem in arquivo_test_normal:\n",
    "    test_normal.append(ler_imagem(caminho_imagem))\n",
    "    \n",
    "# dados de teste com pneumonia\n",
    "test_pneumonia =  []\n",
    "for caminho_imagem in arquivo_test_pneumonia:\n",
    "    test_pneumonia.append(ler_imagem(caminho_imagem))\n",
    "    \n",
    "# dados de treino normais\n",
    "train_normal =  []\n",
    "for caminho_imagem in arquivo_train_normal:\n",
    "    train_normal.append(ler_imagem(caminho_imagem))\n",
    "    \n",
    "# dados de teste pneumonia\n",
    "train_pneumonia =  []\n",
    "for caminho_imagem in arquivo_train_pneumonia:\n",
    "    train_pneumonia.append(ler_imagem(caminho_imagem))\n",
    "\n",
    "# dados de validacao normais\n",
    "val_normal =  []\n",
    "for caminho_imagem in arquivo_val_normal:\n",
    "    val_normal.append(ler_imagem(caminho_imagem))\n",
    "    \n",
    "# dados de validacao pneumonia\n",
    "val_pneumonia =  []\n",
    "for caminho_imagem in arquivo_val_pneumonia:\n",
    "    val_pneumonia.append(ler_imagem(caminho_imagem))\n",
    "    "
   ]
  },
  {
   "cell_type": "code",
   "execution_count": 5,
   "metadata": {},
   "outputs": [
    {
     "name": "stdout",
     "output_type": "stream",
     "text": [
      "[0 0 0 0 0 0 0 0 1 1 1 1 1 1 1 1]\n"
     ]
    }
   ],
   "source": [
    "### cria o Y do dataset\n",
    "## 0 -> pulmao normal    1 -> pulmao com pneumonia\n",
    "\n",
    "y_train = np.concatenate( \n",
    "    (\n",
    "        np.array( [0] * len(arquivo_train_normal)    ) , \n",
    "        np.array( [1] * len(arquivo_train_pneumonia) ) \n",
    "    ),\n",
    "    axis = 0 )\n",
    "\n",
    "y_test = np.concatenate( \n",
    "    (\n",
    "        np.array( [0] * len(arquivo_test_normal)    ) , \n",
    "        np.array( [1] * len(arquivo_test_pneumonia) ) \n",
    "    ),\n",
    "    axis = 0 )\n",
    "\n",
    "y_val = np.concatenate( \n",
    "    (\n",
    "        np.array( [0] * len(arquivo_val_normal)    ) , \n",
    "        np.array( [1] * len(arquivo_val_pneumonia) ) \n",
    "    ),\n",
    "    axis = 0 )\n",
    "\n",
    "print(y_val)\n",
    "\n"
   ]
  },
  {
   "cell_type": "code",
   "execution_count": 6,
   "metadata": {},
   "outputs": [],
   "source": [
    "### concatena as imagens normais com as imagens de pneumonia\n",
    "\n",
    "x_test = np.concatenate( \n",
    "    (\n",
    "        test_normal, \n",
    "        test_pneumonia \n",
    "    ),\n",
    "    axis = 0\n",
    ")\n",
    "x_test = np.array(x_test, dtype=\"float\") / 255.0\n",
    "\n",
    "x_train = np.concatenate( \n",
    "    (\n",
    "        train_normal, \n",
    "        train_pneumonia \n",
    "    ),\n",
    "    axis = 0 )\n",
    "x_train = np.array(x_train, dtype=\"float\") / 255.0\n",
    "    \n",
    "x_val = np.concatenate( \n",
    "    (\n",
    "        val_normal, \n",
    "        val_pneumonia \n",
    "    ),\n",
    "    axis = 0 )\n",
    "x_val = np.array(x_val, dtype=\"float\") / 255.0\n",
    "\n",
    "\n",
    "# libera memoria\n",
    "del train_normal    \n",
    "del train_pneumonia \n",
    "del test_normal     \n",
    "del test_pneumonia  \n",
    "del val_normal      \n",
    "del val_pneumonia   "
   ]
  },
  {
   "cell_type": "code",
   "execution_count": 7,
   "metadata": {},
   "outputs": [
    {
     "name": "stdout",
     "output_type": "stream",
     "text": [
      "(624, 3, 64, 64)\n",
      "(5216, 3, 64, 64)\n",
      "(16, 3, 64, 64)\n"
     ]
    }
   ],
   "source": [
    "### misturar os dados X e Y\n",
    "\n",
    "from sklearn.utils import shuffle\n",
    "x_test  , y_test  = shuffle(x_test  , y_test)\n",
    "x_train , y_train = shuffle(x_train , y_train)\n",
    "x_val   , y_val   = shuffle(x_val   , y_val)\n",
    "  \n",
    "# rearranja os dados\n",
    "\n",
    "x_train = x_train.reshape(len(x_train),profundidade,tamanho,tamanho)\n",
    "x_test  = x_test.reshape(len(x_test),profundidade,tamanho,tamanho)\n",
    "x_val   = x_val.reshape(len(x_val),profundidade,tamanho,tamanho)\n",
    "\n",
    "print(x_test.shape)\n",
    "print(x_train.shape)\n",
    "print(x_val.shape)"
   ]
  },
  {
   "cell_type": "code",
   "execution_count": 8,
   "metadata": {},
   "outputs": [
    {
     "name": "stdout",
     "output_type": "stream",
     "text": [
      "1\n",
      "[0. 1.]\n"
     ]
    }
   ],
   "source": [
    "### categoriza os Y\n",
    "\n",
    "print(y_val[0])\n",
    "\n",
    "y_test  = keras.utils.to_categorical(y_test , numero_classes)\n",
    "y_train = keras.utils.to_categorical(y_train, numero_classes)\n",
    "y_val   = keras.utils.to_categorical(y_val  , numero_classes)\n",
    "\n",
    "print(y_val[0])"
   ]
  },
  {
   "cell_type": "code",
   "execution_count": 9,
   "metadata": {},
   "outputs": [
    {
     "name": "stdout",
     "output_type": "stream",
     "text": [
      "(5216, 3, 64, 64)\n",
      "(5216, 2)\n",
      "(624, 3, 64, 64)\n",
      "(624, 2)\n",
      "(16, 3, 64, 64)\n",
      "(16, 2)\n"
     ]
    }
   ],
   "source": [
    "print(x_train.shape)\n",
    "print(y_train.shape)\n",
    "print(x_test.shape)\n",
    "print(y_test.shape)\n",
    "print(x_val.shape)\n",
    "print(y_val.shape)"
   ]
  },
  {
   "cell_type": "code",
   "execution_count": 10,
   "metadata": {},
   "outputs": [
    {
     "name": "stdout",
     "output_type": "stream",
     "text": [
      "WARNING:tensorflow:From /home/pedro/anaconda2/lib/python2.7/site-packages/tensorflow/python/framework/op_def_library.py:263: colocate_with (from tensorflow.python.framework.ops) is deprecated and will be removed in a future version.\n",
      "Instructions for updating:\n",
      "Colocations handled automatically by placer.\n",
      "WARNING:tensorflow:From /home/pedro/anaconda2/lib/python2.7/site-packages/keras/backend/tensorflow_backend.py:3445: calling dropout (from tensorflow.python.ops.nn_ops) with keep_prob is deprecated and will be removed in a future version.\n",
      "Instructions for updating:\n",
      "Please use `rate` instead of `keep_prob`. Rate should be set to `rate = 1 - keep_prob`.\n"
     ]
    }
   ],
   "source": [
    "## cria o modelo\n",
    "\n",
    "modelo = StridedNet.build(\n",
    "    width = tamanho, \n",
    "    height = tamanho, \n",
    "    depth = profundidade , \n",
    "    classes = numero_classes, \n",
    "    reg = l2(0.0005)\n",
    ")"
   ]
  },
  {
   "cell_type": "code",
   "execution_count": 11,
   "metadata": {},
   "outputs": [],
   "source": [
    "## compilacao da cnn\n",
    "modelo.compile(\n",
    "    optimizer          = keras.optimizers.Adam(lr = 0.001, beta_1 = 0.9, beta_2 = 0.999, epsilon = None, decay = 0.0, amsgrad = False), \n",
    "    loss               = \"categorical_crossentropy\", \n",
    "    metrics            = ['accuracy'], \n",
    "    loss_weights       = None, \n",
    "    sample_weight_mode = None, \n",
    "    weighted_metrics   = None, \n",
    "    target_tensors     = None\n",
    ")"
   ]
  },
  {
   "cell_type": "code",
   "execution_count": 12,
   "metadata": {},
   "outputs": [],
   "source": [
    "## cria callback para salvar o modelo a cada epoca finalizada\n",
    "callback_save = ModelCheckpoint('/home/pedro/Documentos/modelo/xray.h5')"
   ]
  },
  {
   "cell_type": "code",
   "execution_count": 13,
   "metadata": {},
   "outputs": [
    {
     "ename": "ValueError",
     "evalue": "Error when checking input: expected conv2d_1_input to have shape (64, 64, 3) but got array with shape (3, 64, 64)",
     "output_type": "error",
     "traceback": [
      "\u001b[0;31m---------------------------------------------------------------------------\u001b[0m",
      "\u001b[0;31mValueError\u001b[0m                                Traceback (most recent call last)",
      "\u001b[0;32m<ipython-input-13-6050b61dcfba>\u001b[0m in \u001b[0;36m<module>\u001b[0;34m()\u001b[0m\n\u001b[1;32m     14\u001b[0m     \u001b[0minitial_epoch\u001b[0m    \u001b[0;34m=\u001b[0m \u001b[0;36m0\u001b[0m\u001b[0;34m,\u001b[0m\u001b[0;34m\u001b[0m\u001b[0m\n\u001b[1;32m     15\u001b[0m     \u001b[0msteps_per_epoch\u001b[0m  \u001b[0;34m=\u001b[0m \u001b[0mNone\u001b[0m\u001b[0;34m,\u001b[0m\u001b[0;34m\u001b[0m\u001b[0m\n\u001b[0;32m---> 16\u001b[0;31m     \u001b[0mvalidation_steps\u001b[0m \u001b[0;34m=\u001b[0m \u001b[0mNone\u001b[0m\u001b[0;34m\u001b[0m\u001b[0m\n\u001b[0m\u001b[1;32m     17\u001b[0m )\n",
      "\u001b[0;32m/home/pedro/anaconda2/lib/python2.7/site-packages/keras/engine/training.pyc\u001b[0m in \u001b[0;36mfit\u001b[0;34m(self, x, y, batch_size, epochs, verbose, callbacks, validation_split, validation_data, shuffle, class_weight, sample_weight, initial_epoch, steps_per_epoch, validation_steps, **kwargs)\u001b[0m\n\u001b[1;32m    950\u001b[0m             \u001b[0msample_weight\u001b[0m\u001b[0;34m=\u001b[0m\u001b[0msample_weight\u001b[0m\u001b[0;34m,\u001b[0m\u001b[0;34m\u001b[0m\u001b[0m\n\u001b[1;32m    951\u001b[0m             \u001b[0mclass_weight\u001b[0m\u001b[0;34m=\u001b[0m\u001b[0mclass_weight\u001b[0m\u001b[0;34m,\u001b[0m\u001b[0;34m\u001b[0m\u001b[0m\n\u001b[0;32m--> 952\u001b[0;31m             batch_size=batch_size)\n\u001b[0m\u001b[1;32m    953\u001b[0m         \u001b[0;31m# Prepare validation data.\u001b[0m\u001b[0;34m\u001b[0m\u001b[0;34m\u001b[0m\u001b[0m\n\u001b[1;32m    954\u001b[0m         \u001b[0mdo_validation\u001b[0m \u001b[0;34m=\u001b[0m \u001b[0mFalse\u001b[0m\u001b[0;34m\u001b[0m\u001b[0m\n",
      "\u001b[0;32m/home/pedro/anaconda2/lib/python2.7/site-packages/keras/engine/training.pyc\u001b[0m in \u001b[0;36m_standardize_user_data\u001b[0;34m(self, x, y, sample_weight, class_weight, check_array_lengths, batch_size)\u001b[0m\n\u001b[1;32m    749\u001b[0m             \u001b[0mfeed_input_shapes\u001b[0m\u001b[0;34m,\u001b[0m\u001b[0;34m\u001b[0m\u001b[0m\n\u001b[1;32m    750\u001b[0m             \u001b[0mcheck_batch_axis\u001b[0m\u001b[0;34m=\u001b[0m\u001b[0mFalse\u001b[0m\u001b[0;34m,\u001b[0m  \u001b[0;31m# Don't enforce the batch size.\u001b[0m\u001b[0;34m\u001b[0m\u001b[0m\n\u001b[0;32m--> 751\u001b[0;31m             exception_prefix='input')\n\u001b[0m\u001b[1;32m    752\u001b[0m \u001b[0;34m\u001b[0m\u001b[0m\n\u001b[1;32m    753\u001b[0m         \u001b[0;32mif\u001b[0m \u001b[0my\u001b[0m \u001b[0;32mis\u001b[0m \u001b[0;32mnot\u001b[0m \u001b[0mNone\u001b[0m\u001b[0;34m:\u001b[0m\u001b[0;34m\u001b[0m\u001b[0m\n",
      "\u001b[0;32m/home/pedro/anaconda2/lib/python2.7/site-packages/keras/engine/training_utils.pyc\u001b[0m in \u001b[0;36mstandardize_input_data\u001b[0;34m(data, names, shapes, check_batch_axis, exception_prefix)\u001b[0m\n\u001b[1;32m    136\u001b[0m                             \u001b[0;34m': expected '\u001b[0m \u001b[0;34m+\u001b[0m \u001b[0mnames\u001b[0m\u001b[0;34m[\u001b[0m\u001b[0mi\u001b[0m\u001b[0;34m]\u001b[0m \u001b[0;34m+\u001b[0m \u001b[0;34m' to have shape '\u001b[0m \u001b[0;34m+\u001b[0m\u001b[0;34m\u001b[0m\u001b[0m\n\u001b[1;32m    137\u001b[0m                             \u001b[0mstr\u001b[0m\u001b[0;34m(\u001b[0m\u001b[0mshape\u001b[0m\u001b[0;34m)\u001b[0m \u001b[0;34m+\u001b[0m \u001b[0;34m' but got array with shape '\u001b[0m \u001b[0;34m+\u001b[0m\u001b[0;34m\u001b[0m\u001b[0m\n\u001b[0;32m--> 138\u001b[0;31m                             str(data_shape))\n\u001b[0m\u001b[1;32m    139\u001b[0m     \u001b[0;32mreturn\u001b[0m \u001b[0mdata\u001b[0m\u001b[0;34m\u001b[0m\u001b[0m\n\u001b[1;32m    140\u001b[0m \u001b[0;34m\u001b[0m\u001b[0m\n",
      "\u001b[0;31mValueError\u001b[0m: Error when checking input: expected conv2d_1_input to have shape (64, 64, 3) but got array with shape (3, 64, 64)"
     ]
    }
   ],
   "source": [
    "## treinamento da cnn\n",
    "history = modelo.fit(\n",
    "    x                = x_train, \n",
    "    y                = y_train, \n",
    "    batch_size       = batch , \n",
    "    epochs           = epoch, \n",
    "    verbose          = 1, \n",
    "    callbacks        = [callback_save], \n",
    "    validation_split = 0.0, \n",
    "    validation_data  = (x_test,y_test), \n",
    "    shuffle          = True, \n",
    "    class_weight     = None, \n",
    "    sample_weight    = None, \n",
    "    initial_epoch    = 0, \n",
    "    steps_per_epoch  = None, \n",
    "    validation_steps = None\n",
    ")"
   ]
  },
  {
   "cell_type": "code",
   "execution_count": 13,
   "metadata": {},
   "outputs": [
    {
     "name": "stdout",
     "output_type": "stream",
     "text": [
      "('Test loss:', 1.6027261171585474)\n",
      "('Test accuracy:', 0.7259615384615384)\n"
     ]
    }
   ],
   "source": [
    "## mostra resultado\n",
    "score = modelo.evaluate(x_test, y_test, verbose = 0)\n",
    "print('Test loss:', score[0])\n",
    "print('Test accuracy:', score[1])"
   ]
  },
  {
   "cell_type": "code",
   "execution_count": 14,
   "metadata": {},
   "outputs": [
    {
     "data": {
      "image/png": "[encoded data removed]",
      "text/plain": [
       "<Figure size 432x288 with 1 Axes>"
      ]
     },
     "metadata": {
      "needs_background": "light"
     },
     "output_type": "display_data"
    }
   ],
   "source": [
    "## plota resultado\n",
    "# summarize history for accuracy\n",
    "plt.plot(history.history['acc'])\n",
    "plt.plot(history.history['val_acc'])\n",
    "plt.title('model accuracy')\n",
    "plt.ylabel('accuracy')\n",
    "plt.xlabel('epoch')\n",
    "plt.legend(['train', 'test'], loc='upper left')\n",
    "plt.show()\n"
   ]
  },
  {
   "cell_type": "code",
   "execution_count": 15,
   "metadata": {},
   "outputs": [
    {
     "data": {
      "image/png": "[encoded data removed]",
      "text/plain": [
       "<Figure size 432x288 with 1 Axes>"
      ]
     },
     "metadata": {
      "needs_background": "light"
     },
     "output_type": "display_data"
    }
   ],
   "source": [
    "# summarize history for loss\n",
    "plt.plot(history.history['loss'])\n",
    "plt.plot(history.history['val_loss'])\n",
    "plt.title('model loss')\n",
    "plt.ylabel('loss')\n",
    "plt.xlabel('epoch')\n",
    "plt.legend(['train', 'test'], loc='upper left')\n",
    "plt.show()"
   ]
  },
  {
   "cell_type": "code",
   "execution_count": null,
   "metadata": {},
   "outputs": [],
   "source": []
  }
 ],
 "metadata": {
  "kernelspec": {
   "display_name": "Python 2",
   "language": "python",
   "name": "python2"
  },
  "language_info": {
   "codemirror_mode": {
    "name": "ipython",
    "version": 2
   },
   "file_extension": ".py",
   "mimetype": "text/x-python",
   "name": "python",
   "nbconvert_exporter": "python",
   "pygments_lexer": "ipython2",
   "version": "2.7.16"
  }
 },
 "nbformat": 4,
 "nbformat_minor": 2
}
