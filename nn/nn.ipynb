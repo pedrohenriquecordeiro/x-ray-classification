{
 "cells": [
  {
   "cell_type": "code",
   "execution_count": 1,
   "metadata": {},
   "outputs": [],
   "source": [
    "### constantes do problema\n",
    "## 2 => ( 0 - pulmao normal | 1 - pulmao com pneumonia)\n",
    "numero_classes = 2\n",
    "\n",
    "## dimensao da imagem\n",
    "# tamanho x tamanho\n",
    "tamanho = 100\n",
    "profundidade = 3\n",
    "\n",
    "# tamanho do batch\n",
    "batch = 2000\n",
    "\n",
    "# numero de epocas\n",
    "epoch = 25\n",
    "\n",
    "# divisao do dataset\n",
    "teste  = 0.25\n",
    "treino = 0.75\n",
    "\n",
    "## caminhos das pastas das imagens \n",
    "caminho_test_normal     = \"/home/pedro/Imagens/processado_chest-xray-pneumonia/test/NORMAL/*.png\"\n",
    "caminho_test_pneumonia  = \"/home/pedro/Imagens/processado_chest-xray-pneumonia/test/PNEUMONIA/*.png\"\n",
    "\n",
    "caminho_train_normal    = \"/home/pedro/Imagens/processado_chest-xray-pneumonia/train/NORMAL/*.png\" \n",
    "caminho_train_pneumonia = \"/home/pedro/Imagens/processado_chest-xray-pneumonia/train/PNEUMONIA/*.png\"\n",
    "\n",
    "caminho_val_normal      = \"/home/pedro/Imagens/processado_chest-xray-pneumonia/val/NORMAL/*.png\"\n",
    "caminho_val_pneumonia   = \"/home/pedro/Imagens/processado_chest-xray-pneumonia/val/PNEUMONIA/*.png\""
   ]
  },
  {
   "cell_type": "code",
   "execution_count": 2,
   "metadata": {},
   "outputs": [
    {
     "name": "stderr",
     "output_type": "stream",
     "text": [
      "Using TensorFlow backend.\n"
     ]
    }
   ],
   "source": [
    "import numpy as np\n",
    "import keras\n",
    "import cv2 \n",
    "from keras.preprocessing import image\n",
    "from keras.callbacks import ModelCheckpoint\n",
    "from keras.regularizers import l2\n",
    "\n",
    "import matplotlib.pyplot as plt\n",
    "\n",
    "from modelo import model"
   ]
  },
  {
   "cell_type": "code",
   "execution_count": 3,
   "metadata": {},
   "outputs": [],
   "source": [
    "### funcao para carregar a imagem do caminho\n",
    "\n",
    "def ler_imagem(caminho):\n",
    "    img = cv2.imread(caminho)\n",
    "    imres = image.img_to_array(img)\n",
    "    imres = np.expand_dims(imres, axis = 0)    \n",
    "    return imres"
   ]
  },
  {
   "cell_type": "code",
   "execution_count": 4,
   "metadata": {},
   "outputs": [],
   "source": [
    "### carrega o dataset para a memoria\n",
    "\n",
    "import glob\n",
    "\n",
    "arquivo_test_normal    = glob.glob(caminho_test_normal)\n",
    "arquivo_test_pneumonia = glob.glob(caminho_test_pneumonia)\n",
    "\n",
    "arquivo_train_normal    = glob.glob(caminho_train_normal)\n",
    "arquivo_train_pneumonia = glob.glob(caminho_train_pneumonia)\n",
    "\n",
    "arquivo_val_normal    = glob.glob(caminho_val_normal)\n",
    "arquivo_val_pneumonia = glob.glob(caminho_val_pneumonia)\n",
    "\n",
    "\n",
    "## busca cada imagem e salva em arrays\n",
    "\n",
    "# dados de teste normais\n",
    "test_normal = []\n",
    "for caminho_imagem in arquivo_test_normal:\n",
    "    test_normal.append(ler_imagem(caminho_imagem))\n",
    "    \n",
    "# dados de teste com pneumonia\n",
    "test_pneumonia =  []\n",
    "for caminho_imagem in arquivo_test_pneumonia:\n",
    "    test_pneumonia.append(ler_imagem(caminho_imagem))\n",
    "    \n",
    "# dados de treino normais\n",
    "train_normal =  []\n",
    "for caminho_imagem in arquivo_train_normal:\n",
    "    train_normal.append(ler_imagem(caminho_imagem))\n",
    "    \n",
    "# dados de teste pneumonia\n",
    "train_pneumonia =  []\n",
    "for caminho_imagem in arquivo_train_pneumonia:\n",
    "    train_pneumonia.append(ler_imagem(caminho_imagem))\n",
    "\n",
    "# dados de validacao normais\n",
    "val_normal =  []\n",
    "for caminho_imagem in arquivo_val_normal:\n",
    "    val_normal.append(ler_imagem(caminho_imagem))\n",
    "    \n",
    "# dados de validacao pneumonia\n",
    "val_pneumonia =  []\n",
    "for caminho_imagem in arquivo_val_pneumonia:\n",
    "    val_pneumonia.append(ler_imagem(caminho_imagem))\n",
    "    "
   ]
  },
  {
   "cell_type": "code",
   "execution_count": 5,
   "metadata": {},
   "outputs": [],
   "source": [
    "### cria o Y do dataset\n",
    "## 0 -> pulmao normal    1 -> pulmao com pneumonia\n",
    "y_test = np.concatenate( \n",
    "    (\n",
    "        np.array( [0] * len(arquivo_test_normal)    ) , \n",
    "        np.array( [1] * len(arquivo_test_pneumonia) ) \n",
    "    ),\n",
    "    axis = 0 )\n",
    "\n",
    "y_train = np.concatenate( \n",
    "    (\n",
    "        np.array( [0] * len(arquivo_train_normal)    ) , \n",
    "        np.array( [1] * len(arquivo_train_pneumonia) ) ,\n",
    "        np.array( [0] * len(arquivo_val_normal)      ) , \n",
    "        np.array( [1] * len(arquivo_val_pneumonia)   ) \n",
    "    ),\n",
    "    axis = 0 )"
   ]
  },
  {
   "cell_type": "code",
   "execution_count": 6,
   "metadata": {},
   "outputs": [],
   "source": [
    "### concatena todo o dataset\n",
    "\n",
    "x_test = np.concatenate( \n",
    "    (\n",
    "        test_normal, \n",
    "        test_pneumonia \n",
    "    ),\n",
    "    axis = 0\n",
    ")\n",
    "x_test = np.array(x_test, dtype=\"float\") / 255.0\n",
    "\n",
    "x_train = np.concatenate( \n",
    "    (\n",
    "        train_normal, \n",
    "        train_pneumonia,\n",
    "        val_normal, \n",
    "        val_pneumonia \n",
    "    ),\n",
    "    axis = 0 )\n",
    "x_train = np.array(x_train, dtype=\"float\") / 255.0\n",
    "    \n",
    "\n",
    "\n",
    "# libera memoria\n",
    "del train_normal    \n",
    "del train_pneumonia \n",
    "del test_normal     \n",
    "del test_pneumonia  \n",
    "del val_normal      \n",
    "del val_pneumonia   "
   ]
  },
  {
   "cell_type": "code",
   "execution_count": 7,
   "metadata": {},
   "outputs": [
    {
     "name": "stdout",
     "output_type": "stream",
     "text": [
      "(624, 3, 100, 100)\n",
      "(5232, 3, 100, 100)\n"
     ]
    }
   ],
   "source": [
    "### misturar os dados X e Y\n",
    "\n",
    "from sklearn.utils import shuffle\n",
    "x_test  , y_test  = shuffle(x_test  , y_test)\n",
    "x_train , y_train = shuffle(x_train , y_train)\n",
    "  \n",
    "# rearranja os dados\n",
    "\n",
    "x_train = x_train.reshape(len(x_train),profundidade,tamanho,tamanho)\n",
    "x_test  = x_test.reshape(len(x_test),profundidade,tamanho,tamanho)\n",
    "\n",
    "print(x_test.shape)\n",
    "print(x_train.shape)"
   ]
  },
  {
   "cell_type": "code",
   "execution_count": 9,
   "metadata": {},
   "outputs": [],
   "source": [
    "### categoriza os Y\n",
    "\n",
    "\n",
    "y_test  = keras.utils.to_categorical(y_test , numero_classes)\n",
    "y_train = keras.utils.to_categorical(y_train, numero_classes)\n"
   ]
  },
  {
   "cell_type": "code",
   "execution_count": 10,
   "metadata": {},
   "outputs": [
    {
     "name": "stdout",
     "output_type": "stream",
     "text": [
      "(5232, 3, 100, 100)\n",
      "(5232, 2)\n",
      "(624, 3, 100, 100)\n",
      "(624, 2)\n"
     ]
    }
   ],
   "source": [
    "print(x_train.shape)\n",
    "print(y_train.shape)\n",
    "print(x_test.shape)\n",
    "print(y_test.shape)"
   ]
  },
  {
   "cell_type": "code",
   "execution_count": 11,
   "metadata": {},
   "outputs": [
    {
     "name": "stdout",
     "output_type": "stream",
     "text": [
      "WARNING:tensorflow:From /home/pedro/anaconda2/lib/python2.7/site-packages/tensorflow/python/framework/op_def_library.py:263: colocate_with (from tensorflow.python.framework.ops) is deprecated and will be removed in a future version.\n",
      "Instructions for updating:\n",
      "Colocations handled automatically by placer.\n",
      "WARNING:tensorflow:From /home/pedro/anaconda2/lib/python2.7/site-packages/keras/backend/tensorflow_backend.py:3445: calling dropout (from tensorflow.python.ops.nn_ops) with keep_prob is deprecated and will be removed in a future version.\n",
      "Instructions for updating:\n",
      "Please use `rate` instead of `keep_prob`. Rate should be set to `rate = 1 - keep_prob`.\n"
     ]
    }
   ],
   "source": [
    "## cria o modelo\n",
    "\n",
    "modelo = model(\n",
    "    tamanho = tamanho,\n",
    "    profundidade = profundidade,\n",
    "    numero_classes = numero_classes\n",
    ")\n"
   ]
  },
  {
   "cell_type": "code",
   "execution_count": 12,
   "metadata": {},
   "outputs": [],
   "source": [
    "## compilacao da cnn\n",
    "modelo.compile(\n",
    "    optimizer          = keras.optimizers.Adam(lr = 0.001, beta_1 = 0.9, beta_2 = 0.999, epsilon = None, decay = 0.0, amsgrad = False), \n",
    "    loss               = \"categorical_crossentropy\", \n",
    "    metrics            = ['accuracy'], \n",
    "    loss_weights       = None, \n",
    "    sample_weight_mode = None, \n",
    "    weighted_metrics   = None, \n",
    "    target_tensors     = None\n",
    ")"
   ]
  },
  {
   "cell_type": "code",
   "execution_count": 13,
   "metadata": {},
   "outputs": [],
   "source": [
    "## cria callback para salvar o modelo a cada epoca finalizada\n",
    "callback_save = ModelCheckpoint('/home/pedro/Documentos/modelo/xray.h5')"
   ]
  },
  {
   "cell_type": "code",
   "execution_count": null,
   "metadata": {},
   "outputs": [
    {
     "name": "stdout",
     "output_type": "stream",
     "text": [
      "WARNING:tensorflow:From /home/pedro/anaconda2/lib/python2.7/site-packages/tensorflow/python/ops/math_ops.py:3066: to_int32 (from tensorflow.python.ops.math_ops) is deprecated and will be removed in a future version.\n",
      "Instructions for updating:\n",
      "Use tf.cast instead.\n",
      "Train on 3924 samples, validate on 1308 samples\n",
      "Epoch 1/25\n",
      "2000/3924 [==============>...............] - ETA: 47s - loss: 1.7337 - acc: 0.5085"
     ]
    }
   ],
   "source": [
    "## treinamento da cnn\n",
    "history = modelo.fit(\n",
    "    x                = x_train, \n",
    "    y                = y_train, \n",
    "    batch_size       = batch , \n",
    "    epochs           = epoch, \n",
    "    verbose          = 1, \n",
    "    callbacks        = [callback_save], \n",
    "    validation_split = 0.25, \n",
    "    validation_data  = None, \n",
    "    shuffle          = True, \n",
    "    class_weight     = None, \n",
    "    sample_weight    = None, \n",
    "    initial_epoch    = 0, \n",
    "    steps_per_epoch  = None, \n",
    "    validation_steps = None\n",
    ")"
   ]
  },
  {
   "cell_type": "code",
   "execution_count": 14,
   "metadata": {},
   "outputs": [
    {
     "name": "stdout",
     "output_type": "stream",
     "text": [
      "('Test loss:', 1.1370302515152173)\n",
      "('Test accuracy:', 0.8221153846153846)\n"
     ]
    }
   ],
   "source": [
    "## mostra resultado\n",
    "score = modelo.evaluate(x_test, y_test, verbose = 0)\n",
    "print('Test loss:', score[0])\n",
    "print('Test accuracy:', score[1])"
   ]
  },
  {
   "cell_type": "code",
   "execution_count": 15,
   "metadata": {},
   "outputs": [
    {
     "data": {
      "image/png": "[encoded data removed]",
      "text/plain": [
       "<Figure size 432x288 with 1 Axes>"
      ]
     },
     "metadata": {
      "needs_background": "light"
     },
     "output_type": "display_data"
    }
   ],
   "source": [
    "## plota resultado\n",
    "# summarize history for accuracy\n",
    "plt.plot(history.history['acc'])\n",
    "plt.plot(history.history['val_acc'])\n",
    "plt.title('model accuracy')\n",
    "plt.ylabel('accuracy')\n",
    "plt.xlabel('epoch')\n",
    "plt.legend(['train', 'test'], loc='upper left')\n",
    "plt.show()\n"
   ]
  },
  {
   "cell_type": "code",
   "execution_count": 16,
   "metadata": {},
   "outputs": [
    {
     "data": {
      "image/png": "[encoded data removed]",
      "text/plain": [
       "<Figure size 432x288 with 1 Axes>"
      ]
     },
     "metadata": {
      "needs_background": "light"
     },
     "output_type": "display_data"
    }
   ],
   "source": [
    "# summarize history for loss\n",
    "plt.plot(history.history['loss'])\n",
    "plt.plot(history.history['val_loss'])\n",
    "plt.title('model loss')\n",
    "plt.ylabel('loss')\n",
    "plt.xlabel('epoch')\n",
    "plt.legend(['train', 'test'], loc='upper left')\n",
    "plt.show()"
   ]
  },
  {
   "cell_type": "code",
   "execution_count": null,
   "metadata": {},
   "outputs": [],
   "source": []
  }
 ],
 "metadata": {
  "kernelspec": {
   "display_name": "Python 2",
   "language": "python",
   "name": "python2"
  },
  "language_info": {
   "codemirror_mode": {
    "name": "ipython",
    "version": 2
   },
   "file_extension": ".py",
   "mimetype": "text/x-python",
   "name": "python",
   "nbconvert_exporter": "python",
   "pygments_lexer": "ipython2",
   "version": "2.7.16"
  }
 },
 "nbformat": 4,
 "nbformat_minor": 2
}
