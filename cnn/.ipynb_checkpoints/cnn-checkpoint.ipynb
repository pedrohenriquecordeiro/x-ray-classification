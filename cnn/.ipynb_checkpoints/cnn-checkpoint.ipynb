{
 "cells": [
  {
   "cell_type": "code",
   "execution_count": 1,
   "metadata": {},
   "outputs": [],
   "source": [
    "### constantes do problema\n",
    "## 2 => ( 0 - pulmao normal | 1 - pulmao com pneumonia)\n",
    "numero_classes = 2\n",
    "\n",
    "## dimensao da imagem\n",
    "# tamanho x tamanho\n",
    "tamanho = 100\n",
    "profundidade = 3\n",
    "\n",
    "# tamanho do batch\n",
    "batch = 2000\n",
    "\n",
    "# numero de epocas\n",
    "epoch = 25\n",
    "\n",
    "# quantidade de treino do dataset\n",
    "treino  = 0.75\n",
    "\n",
    "## caminhos das pastas das imagens \n",
    "caminho_test_normal     = \"/home/pedro/Imagens/processado_chest-xray-pneumonia/test/NORMAL/*.png\"\n",
    "caminho_test_pneumonia  = \"/home/pedro/Imagens/processado_chest-xray-pneumonia/test/PNEUMONIA/*.png\"\n",
    "\n",
    "caminho_train_normal    = \"/home/pedro/Imagens/processado_chest-xray-pneumonia/train/NORMAL/*.png\" \n",
    "caminho_train_pneumonia = \"/home/pedro/Imagens/processado_chest-xray-pneumonia/train/PNEUMONIA/*.png\"\n",
    "\n",
    "caminho_val_normal      = \"/home/pedro/Imagens/processado_chest-xray-pneumonia/val/NORMAL/*.png\"\n",
    "caminho_val_pneumonia   = \"/home/pedro/Imagens/processado_chest-xray-pneumonia/val/PNEUMONIA/*.png\""
   ]
  },
  {
   "cell_type": "code",
   "execution_count": 2,
   "metadata": {},
   "outputs": [
    {
     "name": "stderr",
     "output_type": "stream",
     "text": [
      "Using TensorFlow backend.\n"
     ]
    }
   ],
   "source": [
    "import numpy as np\n",
    "import keras\n",
    "import cv2 \n",
    "from keras.preprocessing import image\n",
    "from keras.callbacks import ModelCheckpoint\n",
    "from keras.regularizers import l2\n",
    "\n",
    "import matplotlib.pyplot as plt\n",
    "\n",
    "from stridednet import StridedNet"
   ]
  },
  {
   "cell_type": "code",
   "execution_count": 3,
   "metadata": {},
   "outputs": [],
   "source": [
    "### funcao para carregar a imagem do caminho\n",
    "\n",
    "def ler_imagem(caminho):\n",
    "    img = cv2.imread(caminho)\n",
    "    imres = image.img_to_array(img)\n",
    "    imres = np.expand_dims(imres, axis = 0)    \n",
    "    return imres"
   ]
  },
  {
   "cell_type": "code",
   "execution_count": 4,
   "metadata": {},
   "outputs": [],
   "source": [
    "### carrega o dataset para a memoria\n",
    "\n",
    "import glob\n",
    "\n",
    "arquivo_test_normal    = glob.glob(caminho_test_normal)\n",
    "arquivo_test_pneumonia = glob.glob(caminho_test_pneumonia)\n",
    "\n",
    "arquivo_train_normal    = glob.glob(caminho_train_normal)\n",
    "arquivo_train_pneumonia = glob.glob(caminho_train_pneumonia)\n",
    "\n",
    "arquivo_val_normal    = glob.glob(caminho_val_normal)\n",
    "arquivo_val_pneumonia = glob.glob(caminho_val_pneumonia)\n",
    "\n",
    "\n",
    "## busca cada imagem e salva em arrays\n",
    "\n",
    "# dados de teste normais\n",
    "test_normal = []\n",
    "for caminho_imagem in arquivo_test_normal:\n",
    "    test_normal.append(ler_imagem(caminho_imagem))\n",
    "    \n",
    "# dados de teste com pneumonia\n",
    "test_pneumonia =  []\n",
    "for caminho_imagem in arquivo_test_pneumonia:\n",
    "    test_pneumonia.append(ler_imagem(caminho_imagem))\n",
    "    \n",
    "# dados de treino normais\n",
    "train_normal =  []\n",
    "for caminho_imagem in arquivo_train_normal:\n",
    "    train_normal.append(ler_imagem(caminho_imagem))\n",
    "    \n",
    "# dados de teste pneumonia\n",
    "train_pneumonia =  []\n",
    "for caminho_imagem in arquivo_train_pneumonia:\n",
    "    train_pneumonia.append(ler_imagem(caminho_imagem))\n",
    "\n",
    "# dados de validacao normais\n",
    "val_normal =  []\n",
    "for caminho_imagem in arquivo_val_normal:\n",
    "    val_normal.append(ler_imagem(caminho_imagem))\n",
    "    \n",
    "# dados de validacao pneumonia\n",
    "val_pneumonia =  []\n",
    "for caminho_imagem in arquivo_val_pneumonia:\n",
    "    val_pneumonia.append(ler_imagem(caminho_imagem))\n",
    "    "
   ]
  },
  {
   "cell_type": "code",
   "execution_count": 6,
   "metadata": {},
   "outputs": [],
   "source": [
    "### cria o Y\n",
    "## 0 -> pulmao normal    1 -> pulmao com pneumonia\n",
    "y = np.concatenate( \n",
    "    (\n",
    "        np.array( [0] * len(arquivo_test_normal)     ) , \n",
    "        np.array( [1] * len(arquivo_test_pneumonia)  ) ,\n",
    "        np.array( [0] * len(arquivo_train_normal)    ) , \n",
    "        np.array( [1] * len(arquivo_train_pneumonia) ) ,\n",
    "        np.array( [0] * len(arquivo_val_normal)      ) , \n",
    "        np.array( [1] * len(arquivo_val_pneumonia)   ) \n",
    "    ),\n",
    "    axis = 0 )"
   ]
  },
  {
   "cell_type": "code",
   "execution_count": 7,
   "metadata": {},
   "outputs": [],
   "source": [
    "### concatena TODAS as imagens\n",
    "\n",
    "x = np.concatenate( \n",
    "    (\n",
    "        test_normal, \n",
    "        test_pneumonia,\n",
    "        train_normal, \n",
    "        train_pneumonia,\n",
    "        val_normal, \n",
    "        val_pneumonia \n",
    "    ),\n",
    "    axis = 0 )\n",
    "x = np.array(x, dtype=\"float\") / 255.0\n",
    "    \n",
    "\n",
    "# libera memoria\n",
    "del train_normal    \n",
    "del train_pneumonia \n",
    "del test_normal     \n",
    "del test_pneumonia  \n",
    "del val_normal      \n",
    "del val_pneumonia   "
   ]
  },
  {
   "cell_type": "code",
   "execution_count": 9,
   "metadata": {},
   "outputs": [
    {
     "name": "stdout",
     "output_type": "stream",
     "text": [
      "(5856, 3, 100, 100)\n",
      "(5856,)\n"
     ]
    }
   ],
   "source": [
    "### misturar os dados X e Y\n",
    "\n",
    "from sklearn.utils import shuffle\n",
    "x , y  = shuffle(x , y)\n",
    "  \n",
    "# rearranja os dados\n",
    "x = x.reshape(len(x),profundidade,tamanho,tamanho)\n",
    "\n",
    "print(x.shape)\n",
    "print(y.shape)"
   ]
  },
  {
   "cell_type": "code",
   "execution_count": 10,
   "metadata": {},
   "outputs": [],
   "source": [
    "### categoriza o Y\n",
    "\n",
    "y = keras.utils.to_categorical(y , numero_classes)"
   ]
  },
  {
   "cell_type": "code",
   "execution_count": 18,
   "metadata": {},
   "outputs": [],
   "source": [
    "# divide os dados em teste e treino\n",
    "from math import floor\n",
    "\n",
    "x_treino = x[:int(floor(x.shape[0]*treino))]\n",
    "x_teste  = x[int(floor(x.shape[0]*treino)):]\n",
    "\n",
    "y_treino = y[:int(floor(y.shape[0]*treino))]\n",
    "y_teste  = y[int(floor(y.shape[0]*treino)):]\n"
   ]
  },
  {
   "cell_type": "code",
   "execution_count": 19,
   "metadata": {},
   "outputs": [
    {
     "name": "stdout",
     "output_type": "stream",
     "text": [
      "WARNING:tensorflow:From /home/pedro/anaconda2/lib/python2.7/site-packages/tensorflow/python/framework/op_def_library.py:263: colocate_with (from tensorflow.python.framework.ops) is deprecated and will be removed in a future version.\n",
      "Instructions for updating:\n",
      "Colocations handled automatically by placer.\n",
      "WARNING:tensorflow:From /home/pedro/anaconda2/lib/python2.7/site-packages/keras/backend/tensorflow_backend.py:3445: calling dropout (from tensorflow.python.ops.nn_ops) with keep_prob is deprecated and will be removed in a future version.\n",
      "Instructions for updating:\n",
      "Please use `rate` instead of `keep_prob`. Rate should be set to `rate = 1 - keep_prob`.\n"
     ]
    }
   ],
   "source": [
    "## cria o modelo\n",
    "\n",
    "modelo = StridedNet(\n",
    "    width = tamanho, \n",
    "    height = tamanho, \n",
    "    depth = profundidade , \n",
    "    classes = numero_classes, \n",
    "    reg = l2(0.0005)\n",
    ")\n"
   ]
  },
  {
   "cell_type": "code",
   "execution_count": 12,
   "metadata": {},
   "outputs": [],
   "source": [
    "## compilacao da cnn\n",
    "modelo.compile(\n",
    "    optimizer          = keras.optimizers.Adam(lr = 0.001, beta_1 = 0.9, beta_2 = 0.999, epsilon = None, decay = 0.0, amsgrad = False), \n",
    "    loss               = \"categorical_hinge\", \n",
    "    metrics            = ['accuracy'], \n",
    "    loss_weights       = None, \n",
    "    sample_weight_mode = None, \n",
    "    weighted_metrics   = None, \n",
    "    target_tensors     = None\n",
    ")"
   ]
  },
  {
   "cell_type": "code",
   "execution_count": 13,
   "metadata": {},
   "outputs": [],
   "source": [
    "## cria callback para salvar o modelo a cada epoca finalizada\n",
    "callback_save = ModelCheckpoint('/home/pedro/Documentos/modelo/xray.h5')"
   ]
  },
  {
   "cell_type": "code",
   "execution_count": 14,
   "metadata": {},
   "outputs": [
    {
     "name": "stdout",
     "output_type": "stream",
     "text": [
      "WARNING:tensorflow:From /home/pedro/anaconda2/lib/python2.7/site-packages/tensorflow/python/ops/math_ops.py:3066: to_int32 (from tensorflow.python.ops.math_ops) is deprecated and will be removed in a future version.\n",
      "Instructions for updating:\n",
      "Use tf.cast instead.\n",
      "Train on 3924 samples, validate on 1308 samples\n",
      "Epoch 1/25\n",
      "3924/3924 [==============================] - 114s 29ms/step - loss: 1.5362 - acc: 0.6295 - val_loss: 0.9738 - val_acc: 0.8310\n",
      "Epoch 2/25\n",
      "3924/3924 [==============================] - 114s 29ms/step - loss: 1.1391 - acc: 0.7895 - val_loss: 1.0527 - val_acc: 0.8073\n",
      "Epoch 3/25\n",
      "3924/3924 [==============================] - 108s 28ms/step - loss: 0.9764 - acc: 0.8484 - val_loss: 0.6843 - val_acc: 0.9373\n",
      "Epoch 4/25\n",
      "3924/3924 [==============================] - 98s 25ms/step - loss: 0.9035 - acc: 0.8690 - val_loss: 0.6746 - val_acc: 0.9304\n",
      "Epoch 5/25\n",
      "3924/3924 [==============================] - 99s 25ms/step - loss: 0.8073 - acc: 0.8940 - val_loss: 0.8247 - val_acc: 0.8968\n",
      "Epoch 6/25\n",
      "3924/3924 [==============================] - 99s 25ms/step - loss: 0.7369 - acc: 0.9195 - val_loss: 0.6672 - val_acc: 0.9434\n",
      "Epoch 7/25\n",
      "3924/3924 [==============================] - 103s 26ms/step - loss: 0.6748 - acc: 0.9411 - val_loss: 0.6921 - val_acc: 0.9488\n",
      "Epoch 8/25\n",
      "3924/3924 [==============================] - 102s 26ms/step - loss: 0.6530 - acc: 0.9470 - val_loss: 0.7018 - val_acc: 0.9465\n",
      "Epoch 9/25\n",
      "3924/3924 [==============================] - 95s 24ms/step - loss: 0.6198 - acc: 0.9541 - val_loss: 0.6565 - val_acc: 0.9541\n",
      "Epoch 10/25\n",
      "3924/3924 [==============================] - 96s 24ms/step - loss: 0.5873 - acc: 0.9602 - val_loss: 0.6420 - val_acc: 0.9564\n",
      "Epoch 11/25\n",
      "3924/3924 [==============================] - 96s 24ms/step - loss: 0.5729 - acc: 0.9666 - val_loss: 0.6533 - val_acc: 0.9541\n",
      "Epoch 12/25\n",
      "3924/3924 [==============================] - 96s 25ms/step - loss: 0.5695 - acc: 0.9689 - val_loss: 0.6810 - val_acc: 0.9541\n",
      "Epoch 13/25\n",
      "3924/3924 [==============================] - 97s 25ms/step - loss: 0.5503 - acc: 0.9725 - val_loss: 0.7643 - val_acc: 0.9365\n",
      "Epoch 14/25\n",
      "3924/3924 [==============================] - 128s 33ms/step - loss: 0.5482 - acc: 0.9732 - val_loss: 0.8495 - val_acc: 0.9174\n",
      "Epoch 15/25\n",
      "3924/3924 [==============================] - 120s 31ms/step - loss: 0.5423 - acc: 0.9745 - val_loss: 0.6481 - val_acc: 0.9488\n",
      "Epoch 16/25\n",
      "3924/3924 [==============================] - 101s 26ms/step - loss: 0.5335 - acc: 0.9786 - val_loss: 0.6613 - val_acc: 0.9365\n",
      "Epoch 17/25\n",
      "3924/3924 [==============================] - 97s 25ms/step - loss: 0.5240 - acc: 0.9791 - val_loss: 0.6851 - val_acc: 0.9335\n",
      "Epoch 18/25\n",
      "3924/3924 [==============================] - 98s 25ms/step - loss: 0.5177 - acc: 0.9776 - val_loss: 0.6716 - val_acc: 0.9358\n",
      "Epoch 19/25\n",
      "3924/3924 [==============================] - 97s 25ms/step - loss: 0.5262 - acc: 0.9763 - val_loss: 0.6330 - val_acc: 0.9488\n",
      "Epoch 20/25\n",
      "3924/3924 [==============================] - 98s 25ms/step - loss: 0.5156 - acc: 0.9794 - val_loss: 0.6312 - val_acc: 0.9511\n",
      "Epoch 21/25\n",
      "3924/3924 [==============================] - 97s 25ms/step - loss: 0.5082 - acc: 0.9791 - val_loss: 0.6214 - val_acc: 0.9549\n",
      "Epoch 22/25\n",
      "3924/3924 [==============================] - 98s 25ms/step - loss: 0.4935 - acc: 0.9865 - val_loss: 0.6157 - val_acc: 0.9549\n",
      "Epoch 23/25\n",
      "3924/3924 [==============================] - 98s 25ms/step - loss: 0.4991 - acc: 0.9834 - val_loss: 0.6218 - val_acc: 0.9549\n",
      "Epoch 24/25\n",
      "3924/3924 [==============================] - 97s 25ms/step - loss: 0.4966 - acc: 0.9850 - val_loss: 0.6201 - val_acc: 0.9541\n",
      "Epoch 25/25\n",
      "3924/3924 [==============================] - 97s 25ms/step - loss: 0.4985 - acc: 0.9847 - val_loss: 0.6163 - val_acc: 0.9541\n"
     ]
    }
   ],
   "source": [
    "## treinamento da cnn\n",
    "history = modelo.fit(\n",
    "    x                = x_train, \n",
    "    y                = y_train, \n",
    "    batch_size       = batch , \n",
    "    epochs           = epoch, \n",
    "    verbose          = 1, \n",
    "    callbacks        = [callback_save], \n",
    "    validation_split = 0.25, \n",
    "    validation_data  = None, \n",
    "    shuffle          = True, \n",
    "    class_weight     = None, \n",
    "    sample_weight    = None, \n",
    "    initial_epoch    = 0, \n",
    "    steps_per_epoch  = None, \n",
    "    validation_steps = None\n",
    ")"
   ]
  },
  {
   "cell_type": "code",
   "execution_count": 15,
   "metadata": {},
   "outputs": [
    {
     "name": "stdout",
     "output_type": "stream",
     "text": [
      "('Test loss:', 1.5480141058946266)\n",
      "('Test accuracy:', 0.7740384615384616)\n"
     ]
    }
   ],
   "source": [
    "## mostra resultado\n",
    "score = modelo.evaluate(x_test, y_test, verbose = 0)\n",
    "print('Test loss:', score[0])\n",
    "print('Test accuracy:', score[1])"
   ]
  },
  {
   "cell_type": "code",
   "execution_count": 16,
   "metadata": {},
   "outputs": [
    {
     "data": {
      "image/png": "[encoded data removed]",
      "text/plain": [
       "<Figure size 432x288 with 1 Axes>"
      ]
     },
     "metadata": {
      "needs_background": "light"
     },
     "output_type": "display_data"
    }
   ],
   "source": [
    "## plota resultado\n",
    "# summarize history for accuracy\n",
    "plt.plot(history.history['acc'])\n",
    "plt.plot(history.history['val_acc'])\n",
    "plt.title('model accuracy')\n",
    "plt.ylabel('accuracy')\n",
    "plt.xlabel('epoch')\n",
    "plt.legend(['train', 'test'], loc='upper left')\n",
    "plt.show()\n"
   ]
  },
  {
   "cell_type": "code",
   "execution_count": 17,
   "metadata": {},
   "outputs": [
    {
     "data": {
      "image/png": "[encoded data removed]",
      "text/plain": [
       "<Figure size 432x288 with 1 Axes>"
      ]
     },
     "metadata": {
      "needs_background": "light"
     },
     "output_type": "display_data"
    }
   ],
   "source": [
    "# summarize history for loss\n",
    "plt.plot(history.history['loss'])\n",
    "plt.plot(history.history['val_loss'])\n",
    "plt.title('model loss')\n",
    "plt.ylabel('loss')\n",
    "plt.xlabel('epoch')\n",
    "plt.legend(['train', 'test'], loc='upper left')\n",
    "plt.show()"
   ]
  },
  {
   "cell_type": "code",
   "execution_count": null,
   "metadata": {},
   "outputs": [],
   "source": []
  }
 ],
 "metadata": {
  "kernelspec": {
   "display_name": "Python 2",
   "language": "python",
   "name": "python2"
  },
  "language_info": {
   "codemirror_mode": {
    "name": "ipython",
    "version": 2
   },
   "file_extension": ".py",
   "mimetype": "text/x-python",
   "name": "python",
   "nbconvert_exporter": "python",
   "pygments_lexer": "ipython2",
   "version": "2.7.16"
  }
 },
 "nbformat": 4,
 "nbformat_minor": 2
}
